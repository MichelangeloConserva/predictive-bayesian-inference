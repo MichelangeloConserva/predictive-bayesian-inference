{
 "cells": [
  {
   "cell_type": "code",
   "execution_count": null,
   "metadata": {
    "collapsed": true
   },
   "outputs": [],
   "source": [
    "import matplotlib.pyplot as plt\n",
    "\n",
    "import numpy as np\n",
    "import seaborn as sns\n",
    "from scipy.stats import gaussian_kde, norm\n",
    "from tqdm import trange\n",
    "\n",
    "np.random.seed(42)\n",
    "\n",
    "tau_star = 1.0\n",
    "mu_star = 5.0\n",
    "N = 1000\n",
    "B = 500\n",
    "\n",
    "\n",
    "final_posterior_mean = []\n",
    "posterior_mean_trajs = []\n",
    "samples = []\n",
    "\n",
    "theta_0 = 15\n",
    "sigma_squared_0 = 2.4\n",
    "sigma_squared = 5"
   ]
  },
  {
   "cell_type": "code",
   "execution_count": null,
   "outputs": [],
   "source": [
    "for b in trange(B):\n",
    "    n = 0\n",
    "    theta_n = theta_0\n",
    "    sigma_squared_n = sigma_squared_0\n",
    "    y_b = []\n",
    "\n",
    "    posterior_mean_traj = []\n",
    "    for i in range(N):\n",
    "        y = np.random.normal(theta_n, (sigma_squared + sigma_squared_n) ** 0.5)\n",
    "        y_b.append(y)\n",
    "        n = len(y_b)\n",
    "        sigma_squared_n = (1 / sigma_squared_0 + n / sigma_squared) ** -1\n",
    "        theta_n = (\n",
    "            theta_0 / sigma_squared_0 + sum(y_b) / sigma_squared\n",
    "        ) * sigma_squared_n\n",
    "        posterior_mean_traj.append(theta_n)\n",
    "    final_posterior_mean.append(posterior_mean_traj[-1])\n",
    "    posterior_mean_trajs.append(posterior_mean_traj)\n",
    "    samples.append(y_b)"
   ],
   "metadata": {
    "collapsed": false
   }
  },
  {
   "cell_type": "code",
   "execution_count": null,
   "outputs": [],
   "source": [
    "fig, axes = plt.subplots(1, 2, figsize=plt.figaspect(0.5), sharey=True)\n",
    "for t in posterior_mean_trajs:\n",
    "    axes[0].plot(t)\n",
    "axes[0].set_xlabel(\"Forward step\")\n",
    "axes[0].set_ylabel(\"Posterior mean\")\n",
    "nn = norm(theta_0, sigma_squared_0**0.5)\n",
    "x = np.linspace(nn.ppf(0.0005), nn.ppf(1 - 0.0005), 200)\n",
    "axes[1].set_xlabel(\"Density\")\n",
    "axes[1].plot(nn.pdf(x), x, color=\"black\")\n",
    "axes[1].plot(gaussian_kde(final_posterior_mean)(x), x)\n",
    "plt.tight_layout()\n",
    "plt.show()"
   ],
   "metadata": {
    "collapsed": false
   }
  },
  {
   "cell_type": "code",
   "execution_count": null,
   "outputs": [],
   "source": [
    "x = np.linspace(nn.ppf(0.0005), nn.ppf(1 - 0.0005), 200)\n",
    "for y_b in samples:\n",
    "    sns.ecdfplot(y_b)\n",
    "plt.plot(x, nn.cdf(x), color=\"black\", label=\"True posterior cumulative distribution\")\n",
    "plt.legend()\n",
    "plt.tight_layout()\n",
    "plt.show()"
   ],
   "metadata": {
    "collapsed": false
   }
  },
  {
   "cell_type": "code",
   "execution_count": null,
   "outputs": [],
   "source": [
    "N = 10\n",
    "\n",
    "y_n = np.random.normal(5, 1, N)\n",
    "w = np.random.dirichlet([1] * len(y_n))\n",
    "y = np.linspace(0, 10, 500)\n",
    "\n",
    "plt.plot(\n",
    "    y,\n",
    "    (w.reshape(-1, 1) * (y_n.reshape(-1, 1) <= y.reshape(1, -1))).sum(0),\n",
    "    label=\"Sample from the\\nBayesian bootstrap posterior\",\n",
    ")\n",
    "plt.plot(\n",
    "    y, norm(5, 1).cdf(y), color=\"black\", label=\"True posterior\\ncumulative distribution\"\n",
    ")\n",
    "plt.legend()\n",
    "plt.show()\n"
   ],
   "metadata": {
    "collapsed": false
   }
  }
 ],
 "metadata": {
  "kernelspec": {
   "display_name": "Python 3",
   "language": "python",
   "name": "python3"
  },
  "language_info": {
   "codemirror_mode": {
    "name": "ipython",
    "version": 2
   },
   "file_extension": ".py",
   "mimetype": "text/x-python",
   "name": "python",
   "nbconvert_exporter": "python",
   "pygments_lexer": "ipython2",
   "version": "2.7.6"
  }
 },
 "nbformat": 4,
 "nbformat_minor": 0
}
